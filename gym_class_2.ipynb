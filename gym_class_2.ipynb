{
 "cells": [
  {
   "cell_type": "markdown",
   "id": "e7d678a9",
   "metadata": {},
   "source": [
    "# Gym class 2"
   ]
  },
  {
   "cell_type": "code",
   "execution_count": 1,
   "id": "4e48b674",
   "metadata": {},
   "outputs": [],
   "source": [
    "import arviz as az\n",
    "import pymc as pm, pytensor as pt\n",
    "import matplotlib.pyplot as plt\n",
    "\n",
    "import pandas as pd, numpy as np\n",
    "pd.set_option('display.width', 500)\n",
    "pd.set_option('display.max_columns', None)"
   ]
  },
  {
   "cell_type": "code",
   "execution_count": null,
   "id": "71ca9f73",
   "metadata": {},
   "outputs": [],
   "source": [
    "from graphviz import Digraph\n",
    "\n",
    "dot = Digraph()\n",
    "dot.node('H','Height')\n",
    "dot.node('S','Sprint')\n",
    "dot.node('B','Basketball')\n",
    "dot.edges(['HB','SB'])\n",
    "dot"
   ]
  },
  {
   "cell_type": "markdown",
   "id": "f952d1c2",
   "metadata": {},
   "source": [
    "Generate a fake dataset"
   ]
  },
  {
   "cell_type": "code",
   "execution_count": null,
   "id": "6521292e",
   "metadata": {},
   "outputs": [],
   "source": [
    "# Simulate height and weight from independent normal distributions\n",
    "n_samples = 100\n",
    "height = np.random.normal(loc=170, scale=10, size=n_samples).round(0)  # Height in cm\n",
    "sprint = np.random.normal(loc=14, scale=1.5, size=n_samples).round(1)   # 100m time\n",
    "\n",
    "# z-scores\n",
    "hz, sz = (height-170)/10, -(sprint-14)/1.5\n",
    "\n",
    "# Likes basketball\n",
    "bp = np.round(5*(1/(1+np.exp(-1.5*(hz+sz)))))\n",
    "\n",
    "# Combine into a dataframe\n",
    "df = pd.DataFrame({'height':height,'sprint':sprint,'basketball':bp })\n",
    "\n",
    "#df.to_csv('gym_class_big.csv')\n",
    "#df.basketball.value_counts()\n",
    "\n",
    "from plotnine import *\n",
    "\n",
    "ggplot(df,aes(x='height',y='sprint',color='basketball')) + geom_point()"
   ]
  },
  {
   "cell_type": "markdown",
   "id": "36435c0e",
   "metadata": {},
   "source": [
    "# Basic model"
   ]
  },
  {
   "cell_type": "code",
   "execution_count": null,
   "id": "5ea16a8e",
   "metadata": {},
   "outputs": [],
   "source": [
    "with pm.Model() as mdl:\n",
    "    h = df['height']\n",
    "    s = df['sprint']\n",
    "    hc = pm.Normal('hcoef')\n",
    "    sc = pm.Normal('scoef')\n",
    "    pm.Normal('bb',hc*h+sc*s,1,observed=df['basketball'])\n",
    "    idata = pm.sample()\n",
    "\n",
    "print(az.summary(idata,var_names=['hcoef','scoef']))\n",
    "az.plot_trace(idata)\n",
    "plt.show()"
   ]
  },
  {
   "cell_type": "markdown",
   "id": "8e586471",
   "metadata": {},
   "source": [
    "# Latent sprint"
   ]
  },
  {
   "cell_type": "code",
   "execution_count": null,
   "id": "477288e7",
   "metadata": {},
   "outputs": [],
   "source": [
    "import arviz as az\n",
    "\n",
    "with pm.Model() as mdl:\n",
    "    h = df['height']\n",
    "    s = pm.Normal('sprint',14,1.5,size=(len(df)))\n",
    "    \n",
    "    hc = pm.Normal('hcoef')\n",
    "    sc = pm.Normal('scoef')\n",
    "    pm.Normal('bb',hc*h+sc*s,1,observed=df['basketball'])\n",
    "    idata = pm.sample()\n",
    "\n",
    "print(az.summary(idata,var_names=['hcoef','scoef']))\n",
    "az.plot_trace(idata)\n",
    "plt.show()"
   ]
  },
  {
   "cell_type": "code",
   "execution_count": null,
   "id": "3022a0e7",
   "metadata": {},
   "outputs": [],
   "source": [
    "# Plot inferred sprint value against the \"real\" value\n",
    "df['sprint_inf'] = idata.posterior.sprint.median(['chain','draw'])\n",
    "ggplot(df,aes(x='sprint',y='sprint_inf')) + geom_point() + geom_abline()"
   ]
  },
  {
   "cell_type": "markdown",
   "id": "7eaf1ba3",
   "metadata": {},
   "source": [
    "# Latent both"
   ]
  },
  {
   "cell_type": "code",
   "execution_count": null,
   "id": "568f9606",
   "metadata": {},
   "outputs": [],
   "source": [
    "import arviz as az\n",
    "\n",
    "with pm.Model() as mdl:\n",
    "    h = pm.Normal('height',170,10,size=(len(df)))\n",
    "    s = pm.Normal('sprint',14,1.5,size=(len(df)))\n",
    "    \n",
    "    hc = pm.Normal('hcoef')\n",
    "    sc = pm.Normal('scoef')\n",
    "    pm.Normal('bb',hc*h+sc*s,1,observed=df['basketball'])\n",
    "    idata = pm.sample()\n",
    "\n",
    "print(az.summary(idata,var_names=['hcoef','scoef']))\n",
    "az.plot_trace(idata)\n",
    "plt.show()"
   ]
  }
 ],
 "metadata": {
  "kernelspec": {
   "display_name": "salk",
   "language": "python",
   "name": "python3"
  },
  "language_info": {
   "codemirror_mode": {
    "name": "ipython",
    "version": 3
   },
   "file_extension": ".py",
   "mimetype": "text/x-python",
   "name": "python",
   "nbconvert_exporter": "python",
   "pygments_lexer": "ipython3",
   "version": "3.12.2"
  }
 },
 "nbformat": 4,
 "nbformat_minor": 5
}
