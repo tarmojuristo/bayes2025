{
 "cells": [
  {
   "cell_type": "code",
   "execution_count": null,
   "metadata": {},
   "outputs": [],
   "source": [
    "import pandas as pd\n",
    "import numpy as np\n",
    "import altair as alt\n",
    "\n",
    "import pymc as pm\n",
    "import bambi as bmb\n",
    "import pymc_bart as pmb\n",
    "import arviz as az\n",
    "\n",
    "from pymc import do, observe\n",
    "\n",
    "data = pd.read_csv('./data/discrimination.csv', index_col=0)\n",
    "\n",
    "data.head()\n"
   ]
  },
  {
   "cell_type": "code",
   "execution_count": null,
   "metadata": {},
   "outputs": [],
   "source": [
    "coords = {\"predictors\": [\"conservative\"]}\n",
    "\n",
    "with pm.Model(coords=coords) as model:\n",
    "    alpha = pm.Normal(\"alpha\", mu=0, sigma=10)\n",
    "    beta_conservative = pm.Normal(\"beta_conservative\", mu=0, sigma=10)\n",
    "    \n",
    "    p = pm.math.sigmoid(alpha + beta_conservative * data[\"conservative\"])\n",
    "    likelihood = pm.Bernoulli(\"discrimination\", p=p, observed=data[\"discrimination\"])\n",
    "    \n",
    "    trace = pm.sample()\n",
    "    pm.sample_posterior_predictive(trace, extend_inferencedata=True)\n",
    "\n",
    "pm.plot_posterior(trace)"
   ]
  },
  {
   "cell_type": "code",
   "execution_count": null,
   "metadata": {},
   "outputs": [],
   "source": [
    "\n",
    "# Add party preference as dummy variables\n",
    "party_dummies = pd.get_dummies(data[\"party\"], drop_first=True).astype(int)\n",
    "df = pd.concat([data, party_dummies], axis=1)\n",
    "\n",
    "# Add dummies to predictors\n",
    "coords[\"predictors\"] = [\"conservative\"] + list(party_dummies.columns)\n",
    "\n",
    "with pm.Model(coords=coords) as adjusted_model:\n",
    "    alpha = pm.Normal(\"alpha\", mu=0, sigma=10)\n",
    "    beta = pm.Normal(\"beta\", mu=0, sigma=10, dims=\"predictors\")\n",
    "    \n",
    "    predictors = df[[\"conservative\"] + list(party_dummies.columns)]\n",
    "    p = pm.math.sigmoid(alpha + pm.math.dot(predictors, beta))\n",
    "    likelihood = pm.Bernoulli(\"discrimination\", p=p, observed=df[\"discrimination\"])\n",
    "    \n",
    "    party_adjusted_trace = pm.sample()\n",
    "    \n",
    "pm.plot_posterior(party_adjusted_trace)"
   ]
  },
  {
   "cell_type": "markdown",
   "metadata": {},
   "source": [
    "One simple trick we can use to take a lot of manual work out of defining simple PyMC models is to fit them with design matrices based on Wilkinson notation (this should be very familiar if you have used ``brms`` or ``lmer4`` in R or ``statsmodels``in Python). For this there are several options, here we use ``patsy``."
   ]
  },
  {
   "cell_type": "code",
   "execution_count": null,
   "metadata": {},
   "outputs": [],
   "source": [
    "import patsy\n",
    "\n",
    "# Create the design matrix using patsy\n",
    "formula = \"discrimination ~ 1 + conservative + C(party, Treatment)\"\n",
    "y, X = patsy.dmatrices(formula, data=data, return_type='dataframe')\n",
    "\n",
    "# Get the predictor names from the design matrix\n",
    "predictor_names = X.columns.tolist()\n",
    "coords = {\"predictors\": predictor_names}\n",
    "\n",
    "with pm.Model(coords=coords) as patsy_model:\n",
    "    # Priors\n",
    "    beta = pm.Normal(\"beta\", mu=0, sigma=10, dims=\"predictors\")\n",
    "    \n",
    "    # Linear combination using dot product with design matrix X\n",
    "    # Note: alpha is already included in the design matrix as the intercept\n",
    "    linear_pred = pm.math.dot(X, beta)\n",
    "    \n",
    "    # Link function\n",
    "    p = pm.math.sigmoid(linear_pred)\n",
    "    \n",
    "    # Likelihood\n",
    "    likelihood = pm.Bernoulli(\"discrimination\", p=p, observed=y.values.ravel())\n",
    "    \n",
    "    # Sample from the posterior\n",
    "    party_adjusted_trace = pm.sample()"
   ]
  },
  {
   "cell_type": "code",
   "execution_count": null,
   "metadata": {},
   "outputs": [],
   "source": [
    "pm.plot_trace(party_adjusted_trace)"
   ]
  },
  {
   "cell_type": "code",
   "execution_count": null,
   "metadata": {},
   "outputs": [],
   "source": [
    "pm.plot_posterior(party_adjusted_trace)"
   ]
  },
  {
   "cell_type": "code",
   "execution_count": null,
   "metadata": {},
   "outputs": [],
   "source": [
    "party_model = bmb.Model(\n",
    "    'party[EKRE] ~ conservative + gender + age + ethnicity + age:gender',\n",
    "    df,\n",
    "    family='bernoulli',\n",
    ")\n",
    "\n",
    "party_model"
   ]
  },
  {
   "cell_type": "code",
   "execution_count": null,
   "metadata": {},
   "outputs": [],
   "source": [
    "result = party_model.fit(idata_kwargs={\"log_likelihood\": True})\n",
    "\n",
    "az.plot_trace(result, compact=False)"
   ]
  },
  {
   "cell_type": "code",
   "execution_count": null,
   "metadata": {},
   "outputs": [],
   "source": [
    "party_model.graph()"
   ]
  },
  {
   "cell_type": "code",
   "execution_count": null,
   "metadata": {},
   "outputs": [],
   "source": [
    "az.summary(result)"
   ]
  },
  {
   "cell_type": "code",
   "execution_count": null,
   "metadata": {},
   "outputs": [],
   "source": [
    "party_model.predict(result, kind=\"response\")\n",
    "ax = az.plot_separation(result, y=\"party\", figsize=(9,0.5));\n"
   ]
  },
  {
   "cell_type": "code",
   "execution_count": null,
   "metadata": {},
   "outputs": [],
   "source": [
    "loo = az.loo(result, pointwise=True)\n",
    "az.plot_khat(loo.pareto_k);\n"
   ]
  },
  {
   "cell_type": "code",
   "execution_count": null,
   "metadata": {},
   "outputs": [],
   "source": [
    "ax = az.plot_khat(loo.pareto_k)\n",
    "sorted_kappas = np.sort(loo.pareto_k.values.ravel())\n",
    "\n",
    "# find observation where the kappa value exceeds the threshold\n",
    "threshold = sorted_kappas[-2:].min()\n",
    "ax.axhline(threshold, ls=\"--\", color=\"orange\")\n",
    "influential_observations = df.reset_index()[loo.pareto_k.values >= threshold].index\n",
    "\n",
    "for x in influential_observations:\n",
    "    y = loo.pareto_k.values[x]\n",
    "    ax.text(x, y + 0.01, str(x), ha=\"center\", va=\"baseline\")"
   ]
  },
  {
   "cell_type": "code",
   "execution_count": null,
   "metadata": {},
   "outputs": [],
   "source": [
    "df[loo.pareto_k.values >= threshold]"
   ]
  },
  {
   "cell_type": "code",
   "execution_count": null,
   "metadata": {},
   "outputs": [],
   "source": [
    "age = np.arange(18, 91)\n",
    "new_data = pd.DataFrame({\n",
    "    \"age\": np.tile(age, 8),\n",
    "    \"conservative\": np.repeat([0, 1], len(age) * 4),\n",
    "    \"ethnicity\": np.tile(np.repeat([\"estonian\", \"other\"], len(age)), 4),\n",
    "    \"gender\": np.tile(np.repeat([\"male\", \"female\"], len(age)), 4)\n",
    "})\n",
    "new_data"
   ]
  },
  {
   "cell_type": "code",
   "execution_count": null,
   "metadata": {},
   "outputs": [],
   "source": [
    "\n",
    "party_model.predict(result, data=new_data)\n",
    "vote_posterior = az.extract_dataset(result, num_samples=2000)[\"p\"]\n",
    "\n",
    "pd.concat([new_data, pd.DataFrame(vote_posterior.to_numpy().mean(axis=1))], axis=1).rename(columns={0: \"p\"})\n",
    "\n",
    "alt.Chart(pd.concat([new_data, pd.DataFrame(vote_posterior.to_numpy().mean(axis=1))], axis=1).rename(columns={0: \"p\"})).mark_line().encode(\n",
    "    x=\"age\",\n",
    "    y=\"mean(p)\",\n",
    "    color=\"gender\"\n",
    ").facet(\n",
    "    \"ethnicity:N\"\n",
    ")"
   ]
  }
 ],
 "metadata": {
  "kernelspec": {
   "display_name": "salk",
   "language": "python",
   "name": "python3"
  },
  "language_info": {
   "codemirror_mode": {
    "name": "ipython",
    "version": 3
   },
   "file_extension": ".py",
   "mimetype": "text/x-python",
   "name": "python",
   "nbconvert_exporter": "python",
   "pygments_lexer": "ipython3",
   "version": "3.12.10"
  }
 },
 "nbformat": 4,
 "nbformat_minor": 2
}
