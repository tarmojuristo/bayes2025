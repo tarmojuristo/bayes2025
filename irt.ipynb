{
 "cells": [
  {
   "cell_type": "code",
   "execution_count": 1,
   "metadata": {},
   "outputs": [],
   "source": [
    "import pymc as pm\n",
    "import pytensor.tensor as pt\n",
    "import pandas as pd, numpy as np\n",
    "import arviz as az"
   ]
  },
  {
   "cell_type": "code",
   "execution_count": null,
   "metadata": {},
   "outputs": [],
   "source": [
    "# Import data and transform answers to scale 0-2\n",
    "\n",
    "df = pd.read_csv('./data/first_meeting.csv')\n",
    "\n",
    "cols = [c for c in df.columns if c.startswith('What about these?')]\n",
    "\n",
    "remap = {'Never heard of it': 0, 'Roughly familiar': 1, 'Could explain it': 2}\n",
    "responses = df[cols].replace(remap).values\n",
    "\n",
    "used_py = (df['Have you ever used Python for data analysis?'] == 'Yes')\n",
    "\n",
    "models = {}"
   ]
  },
  {
   "cell_type": "code",
   "execution_count": null,
   "metadata": {},
   "outputs": [],
   "source": [
    "# Binomial IRT model\n",
    "with pm.Model(coords={ 'respondents': np.arange(responses.shape[0]), 'questions': cols}) as model:\n",
    "\n",
    "    knowledge = pm.Normal('knowledge',dims='respondents')\n",
    "    q_baseline = pm.Normal('q_baseline', sigma=3, dims='questions')\n",
    "    q_multiplier = pm.LogNormal('q_mult', dims='questions')\n",
    "\n",
    "    pv = pm.math.invlogit(knowledge[:,None]*q_multiplier[None,:] + q_baseline[None,:])\n",
    "    pm.Binomial('responses',n=3,p=pv,observed=responses)\n",
    "\n",
    "    idata = pm.sample()\n",
    "    pm.compute_log_likelihood(idata, extend_inferencedata=True)\n",
    "    models[f'IRT_base'] = idata\n",
    "\n",
    "az.plot_trace(idata)"
   ]
  },
  {
   "cell_type": "code",
   "execution_count": null,
   "metadata": {},
   "outputs": [],
   "source": [
    "# Binomial IRT model with regressor\n",
    "with pm.Model(coords={ 'respondents': np.arange(responses.shape[0]), 'questions': cols}) as model:\n",
    "    py_effect = pm.Normal('py_effect', sigma=1)\n",
    "    knowledge_base = pm.Normal('knowledge_base',dims='respondents')\n",
    "    knowledge = pm.Deterministic('knowledge', knowledge_base + py_effect * used_py)\n",
    "\n",
    "    q_baseline = pm.Normal('q_baseline', sigma=3, dims='questions')\n",
    "    q_multiplier = pm.LogNormal('q_mult', dims='questions')\n",
    "\n",
    "    pv = pm.math.invlogit(knowledge[:,None]*q_multiplier[None,:] + q_baseline[None,:])\n",
    "    pm.Binomial('responses',n=3,p=pv,observed=responses)\n",
    "\n",
    "    idata = pm.sample()\n",
    "    pm.compute_log_likelihood(idata, extend_inferencedata=True)\n",
    "    models['IRT_pyreg'] = idata\n",
    "\n",
    "az.plot_trace(idata)"
   ]
  },
  {
   "cell_type": "code",
   "execution_count": null,
   "metadata": {},
   "outputs": [],
   "source": [
    "# Multiple factors model\n",
    "\n",
    "n_factors = 3\n",
    "\n",
    "coords = { \n",
    "    'respondents': np.arange(responses.shape[0]), \n",
    "    'questions': cols,\n",
    "    'factors': np.arange(n_factors)\n",
    "}\n",
    "\n",
    "with pm.Model(coords=coords) as model:\n",
    "\n",
    "    knowledge = pm.Normal('knowledge',dims=('respondents','factors'))\n",
    "    q_baseline = pm.Normal('q_baseline', sigma=3, dims=('questions'))\n",
    "    q_multiplier = pm.Normal('q_mult', dims=('questions','factors'))\n",
    "\n",
    "    # Identification:\n",
    "    q_diag = pm.HalfNormal('q_diag', dims=('factors')) # Positive values for diagonal\n",
    "    q_multiplier = pt.set_subtensor(q_multiplier[np.arange(n_factors),np.arange(n_factors)], q_diag)\n",
    "    q_multiplier = pt.set_subtensor(q_multiplier[np.triu_indices(n_factors,k=1)], 0.0)\n",
    "    pm.Deterministic('loadings', q_multiplier, dims=('questions','factors'))\n",
    "\n",
    "    pv = pm.math.invlogit((knowledge[:,None,:]*q_multiplier[None,:,:]).sum(axis=-1) + q_baseline[None,:])\n",
    "    pm.Binomial('responses',n=3,p=pv,observed=responses)\n",
    "\n",
    "    idata = pm.sample()\n",
    "    pm.compute_log_likelihood(idata, extend_inferencedata=True)\n",
    "    models[f'IRT_{n_factors}f'] = idata\n",
    "\n",
    "az.plot_trace(idata)"
   ]
  },
  {
   "cell_type": "code",
   "execution_count": null,
   "metadata": {},
   "outputs": [],
   "source": [
    "idata.posterior.loadings.mean(['chain','draw'])"
   ]
  },
  {
   "cell_type": "code",
   "execution_count": null,
   "metadata": {},
   "outputs": [],
   "source": [
    "az.compare(models)"
   ]
  }
 ],
 "metadata": {
  "kernelspec": {
   "display_name": "salk",
   "language": "python",
   "name": "python3"
  },
  "language_info": {
   "codemirror_mode": {
    "name": "ipython",
    "version": 3
   },
   "file_extension": ".py",
   "mimetype": "text/x-python",
   "name": "python",
   "nbconvert_exporter": "python",
   "pygments_lexer": "ipython3",
   "version": "3.12.2"
  }
 },
 "nbformat": 4,
 "nbformat_minor": 2
}
