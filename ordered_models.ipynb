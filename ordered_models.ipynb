{
 "cells": [
  {
   "cell_type": "code",
   "execution_count": 1,
   "metadata": {},
   "outputs": [],
   "source": [
    "from plotnine import *\n",
    "import numpy as np\n",
    "import pandas as pd\n",
    "import scipy as sp"
   ]
  },
  {
   "cell_type": "markdown",
   "metadata": {},
   "source": [
    "# Plots for ordered multinomials"
   ]
  },
  {
   "cell_type": "code",
   "execution_count": 2,
   "metadata": {},
   "outputs": [],
   "source": [
    "supp = np.linspace(-3,3)\n",
    "n_ordered = 5\n",
    "\n",
    "def plot_om(probs_fn, supp, K = 6):\n",
    "    dfs = []\n",
    "    for k in range(K):\n",
    "        temp_df = pd.DataFrame(probs_fn(supp))\n",
    "        temp_df['x'] = supp\n",
    "        temp_df['run'] = f'Run {k+1}'\n",
    "        dfs.append(temp_df)\n",
    "    df = pd.concat(dfs)\n",
    "        \n",
    "    df = df.melt(id_vars=['x', 'run'])\n",
    "    return (ggplot(df, aes(x='x', y='value', fill='variable')) + \n",
    "            geom_area() + \n",
    "            geom_vline(xintercept=0) + \n",
    "            guides(fill=False) +\n",
    "            scale_x_continuous(breaks=range(int(min(supp)), int(max(supp))+1)) +\n",
    "            theme(axis_title_x=element_blank(), axis_title_y=element_blank()) +\n",
    "            facet_wrap('~run'))\n"
   ]
  },
  {
   "cell_type": "code",
   "execution_count": null,
   "metadata": {},
   "outputs": [],
   "source": [
    "# Binomial\n",
    "\n",
    "def binom_probs(supp):\n",
    "    N = n_ordered -1\n",
    "    cn = np.arange(N+1)\n",
    "    p = sp.special.expit(supp)\n",
    "    probs = sp.special.binom(N,cn) * \\\n",
    "        (p[:,None]**cn[None,:]) * \\\n",
    "        (1-p[:,None])**(N-cn[None,:])\n",
    "    return probs\n",
    "plot_om(binom_probs,supp,K=1)"
   ]
  },
  {
   "cell_type": "code",
   "execution_count": 4,
   "metadata": {},
   "outputs": [],
   "source": [
    "# Cutpoints\n",
    "\n",
    "def gen_cps(n_ordered):\n",
    "    cp_scale = 1.5\n",
    "    cp_len = n_ordered-1\n",
    "    cps = np.sort(cp_scale*np.random.normal(size=cp_len))\n",
    "    cps -= cps.mean()\n",
    "    return cps"
   ]
  },
  {
   "cell_type": "code",
   "execution_count": null,
   "metadata": {},
   "outputs": [],
   "source": [
    "# Probit\n",
    "\n",
    "def probit_probs(supp):\n",
    "    cps = gen_cps(n_ordered)\n",
    "\n",
    "    ep = 0.5*(1+sp.special.erf( supp[:,None] - cps[None,:]))\n",
    "    cprobs = np.concatenate([ np.ones( (supp.shape[0],1) ), ep, np.zeros( (supp.shape[0],1) )],axis=1)\n",
    "    probs = cprobs[:,:-1]-cprobs[:,1:]\n",
    "    return probs\n",
    "plot_om(probit_probs,supp,K=6)"
   ]
  },
  {
   "cell_type": "code",
   "execution_count": null,
   "metadata": {},
   "outputs": [],
   "source": [
    "# Logistic\n",
    "def logistic_probs(supp):\n",
    "    cps = gen_cps(n_ordered)\n",
    "    pa = sp.special.expit(cps[None,:] - supp[:,None])\n",
    "    probs = np.concatenate([ pa[:, 0, None], pa[:, 1:] - pa[:, :-1], 1.0 - pa[:, -1, None] ], axis=-1)\n",
    "    return probs\n",
    "plot_om(logistic_probs,supp,K=6)"
   ]
  },
  {
   "cell_type": "code",
   "execution_count": null,
   "metadata": {},
   "outputs": [],
   "source": [
    "# Stereotype regression\n",
    "\n",
    "def stereotype_probs(supp):\n",
    "    phi_delta = np.random.dirichlet(np.ones(n_ordered-1))\n",
    "    phi = np.concatenate([[0], np.cumsum(phi_delta)])\n",
    "    s_mu = np.random.normal(size=n_ordered)\n",
    "    probs = sp.special.softmax(s_mu[None,:] + phi[None,:]*supp[:,None], axis=-1)\n",
    "    return probs\n",
    "plot_om(stereotype_probs,supp,K=6)"
   ]
  },
  {
   "cell_type": "markdown",
   "metadata": {},
   "source": [
    "# Real examples from regression\n",
    "Averages of trust2_EU"
   ]
  },
  {
   "cell_type": "code",
   "execution_count": null,
   "metadata": {},
   "outputs": [],
   "source": [
    "def real_logit(supp):\n",
    "    cps = np.array([-0.83095682, -0.22333643, -0.09501735,  1.1493106 ])\n",
    "    pa = sp.special.expit(cps[None,:] - supp[:,None])\n",
    "    probs = np.concatenate([ pa[:, 0, None], pa[:, 1:] - pa[:, :-1], 1.0 - pa[:, -1, None] ], axis=-1)\n",
    "    return probs\n",
    "\n",
    "plot_om(real_logit,supp,K=1)"
   ]
  },
  {
   "cell_type": "code",
   "execution_count": null,
   "metadata": {},
   "outputs": [],
   "source": [
    "# Values on some real data\n",
    "\n",
    "def real_stereotype(supp):\n",
    "    phi_delta = np.array([0.55368214, 0.19831634, 0.13467074, 0.11333078])\n",
    "    phi = np.concatenate([[0], np.cumsum(phi_delta)])\n",
    "    s_mu = np.array([ 0.59625734, -0.20218961, -1.68321933,  0.57362777,  0.71552383])\n",
    "    probs = sp.special.softmax(s_mu[None,:] + phi[None,:]*supp[:,None], axis=-1)\n",
    "    return probs\n",
    "plot_om(real_stereotype,supp,K=1)"
   ]
  },
  {
   "cell_type": "markdown",
   "metadata": {},
   "source": [
    "# Slide demo"
   ]
  },
  {
   "cell_type": "code",
   "execution_count": null,
   "metadata": {},
   "outputs": [],
   "source": [
    "# Probit demo for slide\n",
    "\n",
    "def probit_demo(supp):\n",
    "    cps = np.array([-2.5,-0.8,-0.5,0.8])\n",
    "\n",
    "    ep = sp.stats.norm.cdf(supp[:,None] - cps[None,:])\n",
    "    cprobs = np.concatenate([ np.ones( (supp.shape[0],1) ), ep, np.zeros( (supp.shape[0],1) )],axis=1)\n",
    "    probs = cprobs[:,:-1]-cprobs[:,1:]\n",
    "    return probs\n",
    "plot_om(probit_demo,np.linspace(-3,3),K=1)"
   ]
  },
  {
   "cell_type": "code",
   "execution_count": null,
   "metadata": {},
   "outputs": [],
   "source": [
    "from scipy.stats import norm\n",
    "\n",
    "# Generate standard normal curve data\n",
    "x = np.linspace(-3.5, 3.5, 1000)\n",
    "y = norm.pdf(x-1)\n",
    "df = pd.DataFrame({\"x\": x, \"y\": y})\n",
    "\n",
    "# Define vertical lines (z-scores) and their bands\n",
    "bands = [-10,-2.5, -0.8, -0.5, 0.8, 10]\n",
    "df[\"fill_id\"] = pd.cut(\n",
    "    df[\"x\"], \n",
    "    bins=bands, \n",
    "    #labels=range(len(bands)-1), \n",
    "    include_lowest=True\n",
    ")#.astype('str')\n",
    "\n",
    "df\n",
    "\n",
    "# Create the plot\n",
    "(\n",
    "    ggplot(df.iloc[::-1], aes(x=\"x\", y=\"y\"))\n",
    "    + geom_area(aes(fill=\"fill_id\"), show_legend=False)  # Color bands\n",
    "    + scale_fill_discrete()\n",
    "    + geom_vline(xintercept=bands[1:-1], color=\"black\", size=0.5)  # Vertical lines\n",
    "    + xlim(-3,3)\n",
    "    + theme(\n",
    "        axis_line=element_blank(),\n",
    "        axis_title=element_blank(),\n",
    "        #axis_text=element_blank(),\n",
    "        #axis_ticks=element_blank(),\n",
    "        \n",
    "        figure_size=(6, 4)\n",
    "    )\n",
    ")"
   ]
  }
 ],
 "metadata": {
  "kernelspec": {
   "display_name": "salk",
   "language": "python",
   "name": "python3"
  },
  "language_info": {
   "codemirror_mode": {
    "name": "ipython",
    "version": 3
   },
   "file_extension": ".py",
   "mimetype": "text/x-python",
   "name": "python",
   "nbconvert_exporter": "python",
   "pygments_lexer": "ipython3",
   "version": "3.12.2"
  }
 },
 "nbformat": 4,
 "nbformat_minor": 2
}
