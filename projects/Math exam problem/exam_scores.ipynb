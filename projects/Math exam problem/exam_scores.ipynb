{
 "cells": [
  {
   "cell_type": "markdown",
   "metadata": {},
   "source": [
    "# Bayesian Analysis of Math Exam Scores\n",
    "\n",
    "## Problem Statement\n",
    "\n",
    "You are provided with a dataset of math exam scores from Estonian primary schools. Your task is to build a Bayesian model to better understand the factors that influence exam performance.\n",
    "\n",
    "## Data Description\n",
    "\n",
    "The dataset includes the following variables:\n",
    "- `year`: The year of the exam (2016-2023)\n",
    "- `county`: The county where the student took the exam\n",
    "- `domestic_background`: Whether the student is Estonian or Russian\n",
    "- `gender`: Student's gender (Male/Female)\n",
    "- `avg_grade`: The student's average grade (from 1 to 5, continuous)\n",
    "- `exam_score`: The exam score (0-50 points)\n",
    "\n",
    "## Your Task\n",
    "\n",
    "1. Load and explore the data to understand its structure. \n",
    "2. Perform exploratory data analysis to investigate the relationships between variables. \n",
    "3. Create a DAG that represents the causal relationships between variables based on your domain knowledge. This DAG will help inform the structure of your Bayesian model, the choice of priors, and the conditional dependencies.\n",
    "4. Based on the DAG, build a Bayesian model to analyze the following relationships:\n",
    "   - How does the county influence exam scores?\n",
    "   - What is the impact of domestic background (Estonian vs Russian) on exam performance?\n",
    "   - Are there gender differences in exam scores?\n",
    "   - How have exam scores evolved over time across different years (2016–2023)?\n",
    "5. Visualize and interpret your results. Specifically, try to answer the following questions:\n",
    "   - What is the posterior probability of getting a >=45 `exam_score` if `avg_grade` before taking the exam is less than 2.5?\n",
    "   - What is the posterior distribution of the difference in exam performance between students of Estonian and Russian domestic backgrounds?\n",
    "   - How has the posterior distribution of exam performance changed over the years (2016-2023)?\n",
    "   - What is the posterior distribution of the relationship between `avg_grade` and `exam_score` across different counties?\n",
    "   - What are the posterior distributions of gender differences in exam performance across counties?\n",
    "   - What is the posterior probability that a student with an `avg_grade` of 4.5 will score at least 40 points?\n",
    "\n",
    "\n",
    "#### From Margus & Tarmo:\n",
    "*If you want to build a good model, draw the causal graph and then really plot the relationships -- as they are not simple here. But you should start with the simple linear model and then just go down the rabbit hole and see how deep it goes. A keyword that might help is \"Heteroskedacity\".*\n",
    "\n",
    "## Data Loading"
   ]
  },
  {
   "cell_type": "code",
   "execution_count": null,
   "metadata": {},
   "outputs": [],
   "source": [
    "import pandas as pd\n",
    "import numpy as np\n",
    "import pymc as pm\n",
    "import arviz as az\n",
    "import matplotlib.pyplot as plt\n",
    "import seaborn as sns\n",
    "\n",
    "# Load the data\n",
    "data = pd.read_csv('math_exam_scores.csv', sep=\";\").sample(2000) # Work with a smaller dataset at first so that you don't have to wait 10 minutes every time you sample the model.\n",
    "\n",
    "# Display first few rows\n",
    "data.head()"
   ]
  },
  {
   "cell_type": "markdown",
   "metadata": {},
   "source": [
    "## Hints\n",
    "It might come handy to know that:\n",
    "- The `exam_score` is a linear combination of the `primary influencing factor`, along with the `sigmoid` of linear combination of some `other factors`. There is no noise in the `sigmoid` function.\n",
    "- The `sigmoid` is shifted down by 0.5 such that its range is (-0.5,0.5). Futhermore `sigmoid` is weigtened by `primary influencing factor`*(5-`primary influencing factor`) to reduce the influence of other factors at extreme values of exam scores (near 0 and 50).\n",
    "- The `exam_score` is generated in such a way that its noise varies. The variance of the noise is smaller near the extreme values (0 and 50).\n",
    "\n",
    "Good luck with your analysis!"
   ]
  }
 ],
 "metadata": {
  "kernelspec": {
   "display_name": "salk",
   "language": "python",
   "name": "python3"
  },
  "language_info": {
   "codemirror_mode": {
    "name": "ipython",
    "version": 3
   },
   "file_extension": ".py",
   "mimetype": "text/x-python",
   "name": "python",
   "nbconvert_exporter": "python",
   "pygments_lexer": "ipython3",
   "version": "3.12.10"
  }
 },
 "nbformat": 4,
 "nbformat_minor": 4
}
