{
 "cells": [
  {
   "cell_type": "markdown",
   "id": "f8a79534-83fb-40d2-b17d-e3582e4d1508",
   "metadata": {},
   "source": [
    "## Double blind or single blind?\n",
    "Scientists' lives revolve around publishing their work in scientific journals. The review  process of article manuscripts can sometimes take from months up to even two years. Getting rejected after that can be quite demoralising, especially when the author feels that the critique of their paper is not fair.\n",
    "\n",
    "Double blind peer reviews are often used in journals to make reviews more fair and less biased. Double blind means that the author does not know who is reviewing their work and the reviewer also does not know whose work they are reviewing. This helps to reduce the bias in reviewing, encourages early career scientists who are not renowned yet and can promote more objective critique.\n",
    "\n",
    "Recently, few major journals have come under scrutiny, when rumours started spreading that they are not doing double-blind reviews anymore and are playing dirty. This would mean the reviewers would have full access to the information about the author of the manuscript under review which could directly influence their decision whether to accept the paper or not."
   ]
  },
  {
   "cell_type": "markdown",
   "id": "85e620e3-c9e1-4cac-ae26-ac8a59734a73",
   "metadata": {},
   "source": [
    "### Your Task\n",
    "You have access to a simulated dataset that mirrors yearly submission logs from two data science journals. Articles in the dataset are randomly distributed among two independent journals. The articles in both journals contain some popular and some less popular data science topics that are overlapping between the journals. Your goal is to use Bayesian modeling to answer the following questions:\n",
    "\n",
    "**What factors influence whether a paper gets accepted?**\n",
    "\n",
    "**Which journal, if any, appears to be biased — for example, favoring well-known authors?**"
   ]
  },
  {
   "cell_type": "markdown",
   "id": "879519e6-a28d-4fa0-815a-98bd63a40b71",
   "metadata": {},
   "source": [
    "### Data structure\n",
    "\n",
    "Each row represents a paper submission. The following variables are available:\n",
    "\n",
    "**The author's reputation**: Measured by the h-index. The dataset provides the maximum h-index among the authors of each paper.\n",
    "\n",
    "**Journal id**: In the logs there are 2 different journals. You need to determine which one is biased (i.e., not double-blind).\n",
    "\n",
    "**The writing quality of the paper**: A score (0–100) based on clarity, grammar, and structure\n",
    "\n",
    "**The topic/domain of the article**: Keep in mind, that some topics are more popular than others, which could affect the acceptance rate of the journal. Additionally, different journals may favor different topics.\n",
    "\n",
    "**The final acceptance decision**: A binary indicator showing whether the paper was accepted (1) or rejected (0)\n"
   ]
  },
  {
   "cell_type": "code",
   "execution_count": 2,
   "id": "ff9ba106-adfb-44cb-b044-b1d9f5e457a4",
   "metadata": {},
   "outputs": [
    {
     "data": {
      "text/html": [
       "<div>\n",
       "<style scoped>\n",
       "    .dataframe tbody tr th:only-of-type {\n",
       "        vertical-align: middle;\n",
       "    }\n",
       "\n",
       "    .dataframe tbody tr th {\n",
       "        vertical-align: top;\n",
       "    }\n",
       "\n",
       "    .dataframe thead th {\n",
       "        text-align: right;\n",
       "    }\n",
       "</style>\n",
       "<table border=\"1\" class=\"dataframe\">\n",
       "  <thead>\n",
       "    <tr style=\"text-align: right;\">\n",
       "      <th></th>\n",
       "      <th>paper_id</th>\n",
       "      <th>journal</th>\n",
       "      <th>paper_topic</th>\n",
       "      <th>max_h-index</th>\n",
       "      <th>writing_quality</th>\n",
       "      <th>accepted</th>\n",
       "    </tr>\n",
       "  </thead>\n",
       "  <tbody>\n",
       "    <tr>\n",
       "      <th>0</th>\n",
       "      <td>1</td>\n",
       "      <td>B</td>\n",
       "      <td>Gaussian Process</td>\n",
       "      <td>28</td>\n",
       "      <td>100</td>\n",
       "      <td>0</td>\n",
       "    </tr>\n",
       "    <tr>\n",
       "      <th>1</th>\n",
       "      <td>2</td>\n",
       "      <td>B</td>\n",
       "      <td>NLP</td>\n",
       "      <td>7</td>\n",
       "      <td>72</td>\n",
       "      <td>0</td>\n",
       "    </tr>\n",
       "    <tr>\n",
       "      <th>2</th>\n",
       "      <td>3</td>\n",
       "      <td>B</td>\n",
       "      <td>Neural Networks</td>\n",
       "      <td>17</td>\n",
       "      <td>72</td>\n",
       "      <td>0</td>\n",
       "    </tr>\n",
       "    <tr>\n",
       "      <th>3</th>\n",
       "      <td>4</td>\n",
       "      <td>A</td>\n",
       "      <td>NLP</td>\n",
       "      <td>29</td>\n",
       "      <td>81</td>\n",
       "      <td>0</td>\n",
       "    </tr>\n",
       "    <tr>\n",
       "      <th>4</th>\n",
       "      <td>5</td>\n",
       "      <td>A</td>\n",
       "      <td>NLP</td>\n",
       "      <td>19</td>\n",
       "      <td>86</td>\n",
       "      <td>1</td>\n",
       "    </tr>\n",
       "  </tbody>\n",
       "</table>\n",
       "</div>"
      ],
      "text/plain": [
       "   paper_id journal       paper_topic  max_h-index  writing_quality  accepted\n",
       "0         1       B  Gaussian Process           28              100         0\n",
       "1         2       B               NLP            7               72         0\n",
       "2         3       B   Neural Networks           17               72         0\n",
       "3         4       A               NLP           29               81         0\n",
       "4         5       A               NLP           19               86         1"
      ]
     },
     "execution_count": 2,
     "metadata": {},
     "output_type": "execute_result"
    }
   ],
   "source": [
    "import pandas as pd\n",
    "\n",
    "data = pd.read_csv('./peer_review.csv')\n",
    "data.head()"
   ]
  }
 ],
 "metadata": {
  "kernelspec": {
   "display_name": "salk",
   "language": "python",
   "name": "python3"
  },
  "language_info": {
   "codemirror_mode": {
    "name": "ipython",
    "version": 3
   },
   "file_extension": ".py",
   "mimetype": "text/x-python",
   "name": "python",
   "nbconvert_exporter": "python",
   "pygments_lexer": "ipython3",
   "version": "3.12.10"
  }
 },
 "nbformat": 4,
 "nbformat_minor": 5
}
