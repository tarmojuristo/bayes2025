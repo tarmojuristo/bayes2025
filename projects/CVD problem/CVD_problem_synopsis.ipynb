{
 "cells": [
  {
   "cell_type": "markdown",
   "id": "8e061835-6c42-47dc-89b8-bfe9e848fbc2",
   "metadata": {},
   "source": [
    "## Research question\n",
    "Does a person's genotype influence their risk of developing cardiovascular disease (CVD)?\n",
    "\n",
    "## Dataset overview\n",
    "You have access to data from a long-term study of 50,000 Estonian individuals who have been observed since birth. Each person was screened to determine whether or not they developed CVD during their lifetime. All individuals have also been genotyped for a genetic variant (genotype) associated with CVD risk. The goal is to investigate how this genotype influences the age at onset of CVD. The data also includes information about each person’s sex and body mass index.\n",
    "\n",
    "This is a survival dataset, meaning it includes follow-up time for each individual, captured by the \"age\" variable. Some individuals experienced the event of interest (CVD), while others were censored, i.e. they died without ever having the disease during the observation period.\n",
    "\n",
    "### The dataset contains the following five variables:\n",
    "1.\tAge – the person’s age in years at the time of CVD diagnosis (if they had it), or age at death (if they did not)\n",
    "\n",
    "2.\tEvent – indicates whether the person experienced a CVD event:\n",
    "\n",
    "* 1: the person had CVD\n",
    "* 0: the person did not have CVD and died from another cause\n",
    "\n",
    "3.\tGenotype – the number of risk alleles a person has; it can be:\n",
    "* 0: no risk alleles (e.g., genotype \"AA\")\n",
    "* 1: one risk allele (e.g., \"Aa\")\n",
    "* 2: two risk alleles (e.g., \"aa\")\n",
    "Note: The genotype is located on an autosomal chromosome, meaning it is not associated with biological sex. \n",
    "\n",
    "4.\tBMI – body mass index (kg/m2)\n",
    "\n",
    "5.\tSex – the biological sex of the individual"
   ]
  },
  {
   "cell_type": "code",
   "execution_count": null,
   "id": "425c314b-b8df-4ce7-9852-acfd78dc89ff",
   "metadata": {},
   "outputs": [],
   "source": [
    "import pandas as pd\n",
    "df = pd.read_csv('CVD_data.csv').sample(2000) # Tarmo: let's take a sample of n=2000 here to avoid running into memory issues and make model run a little faster\n",
    "\n",
    "df.head()"
   ]
  }
 ],
 "metadata": {
  "kernelspec": {
   "display_name": "salk",
   "language": "python",
   "name": "python3"
  },
  "language_info": {
   "codemirror_mode": {
    "name": "ipython",
    "version": 3
   },
   "file_extension": ".py",
   "mimetype": "text/x-python",
   "name": "python",
   "nbconvert_exporter": "python",
   "pygments_lexer": "ipython3",
   "version": "3.12.10"
  }
 },
 "nbformat": 4,
 "nbformat_minor": 5
}
