{
 "cells": [
  {
   "cell_type": "code",
   "execution_count": 8,
   "id": "40ee70ad-7f1b-4235-80b7-8a3ab3235bda",
   "metadata": {},
   "outputs": [],
   "source": [
    "import pandas as pd\n",
    "import numpy as np\n",
    "\n",
    "np.random.seed(29032025)\n",
    "\n",
    "# generate censored survival data for a birth cohort of 50 000 individuals\n",
    "# outcome of interest is age at disease onset which might be censored by age at death\n",
    "# generate age at death and age at disease onset for every individual, then define as events those who got the disease before dying\n",
    "# age at disease onset depends on genotype - those with more risk alleles have on average lower disease onset ages\n",
    "# age at disease onset is also influenced by bmi and sex; bmi is influenced by genotype and sex\n",
    "# goal is to estimate the effect of genotype on age at disease onset\n",
    "\n",
    "N = 50000\n",
    "MAF = 0.1 # minor allele frequency is 10%, this means 81% have no risk alleles (AA), 18% have one risk allele (Aa), 1% have two risk alleles (aa) \n",
    "HR = 1.7 # effect size for genotype\n",
    "a = 3.2503 # scale parameter for weibull distribution of disease onset age\n",
    "b = 173.0897 # 'baseline' shape parameter for weibull distribution of disease onset age\n",
    "# a and b are chosen so that the 'baseline' prevalence of the disease is about 10% and the median age of disease onset is about 70 \n",
    "\n",
    "sex = np.random.binomial(1, 0.5, N) # 0: female, 1: male\n",
    "genotype = np.random.binomial(2, MAF, N) # 'a' is risk allele: 0: AA, 1: Aa, 2: aa \n",
    "bmi = 15.5 + 0.9 * genotype + 1.2 * sex + np.random.lognormal(2.1, 0.4, N) # bmi depends on genotype and sex\n",
    "b_g = b * (np.exp(np.log(HR) * genotype + 0.07 * (bmi - 25) + 0.3 * sex)) ** (-1 / a) # modify the shape parameter of the weibull distribution so it depends on genotype, bmi and sex\n",
    "age_at_disease_onset = np.random.weibull(a, N) * b_g  # generate genotype-sex-bmi-specific age at disease onset\n",
    "age_at_death = np.random.weibull(9, N) * 80 # Weibull parameters for age at death are estimated from EstBB cohort\n",
    "age = np.minimum(age_at_disease_onset, age_at_death) # observed age is minimum of age at death and age at disease onset\n",
    "event = (age_at_disease_onset == age).astype(int) # events are those who got the disease before dying, others are censored by death\n",
    "sex_label = np.where(sex == 0, \"female\", \"male\")\n",
    "\n",
    "df = pd.DataFrame({\"age\": age.astype(int), \"event\": event, \"genotype\": genotype, \"bmi\": bmi, \"sex\": sex_label})\n",
    "df.to_csv(\"CVD_data.csv\", index=False)"
   ]
  }
 ],
 "metadata": {
  "kernelspec": {
   "display_name": "salk",
   "language": "python",
   "name": "python3"
  },
  "language_info": {
   "codemirror_mode": {
    "name": "ipython",
    "version": 3
   },
   "file_extension": ".py",
   "mimetype": "text/x-python",
   "name": "python",
   "nbconvert_exporter": "python",
   "pygments_lexer": "ipython3",
   "version": "3.12.10"
  }
 },
 "nbformat": 4,
 "nbformat_minor": 5
}
